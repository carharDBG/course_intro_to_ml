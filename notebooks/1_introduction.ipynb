{
 "cells": [
  {
   "cell_type": "markdown",
   "metadata": {},
   "source": [
    "# Table of Contents\n",
    "- [1. Introduction](#1)\n",
    "    - [1.1 Definitions and Terminology](#1_1)\n",
    "    - [1.2 Machine Learning Concepts](#1_2)\n",
    "        - [1.2.1 Unsupervised and Supervised Learning](#1_2_1)\n",
    "    - [1.3 Technology](#1_3)\n",
    "    - [1.4 Exercise](#1_4)\n",
    "    - [1.5 Learning Material](#1_5)\n"
   ]
  },
  {
   "cell_type": "markdown",
   "metadata": {
    "collapsed": true
   },
   "source": [
    "# 1. Introduction<a name=\"1\"></a>"
   ]
  },
  {
   "cell_type": "markdown",
   "metadata": {},
   "source": [
    "## 1.1 Definitions and Terminology<a name=\"1_1\"></a>"
   ]
  },
  {
   "cell_type": "markdown",
   "metadata": {},
   "source": [
    "### What is AI?\n",
    "In computer science AI research is defined as: \n",
    "\n",
    ">The study of \"intelligent agents\": any device that perceives its environment and takes actions that maximize its chance of successfully achieving its goals.\n",
    "\n",
    "\n",
    "Another definition of artificial intelligence is Andreas Kaplan’s and Michael Haenlein’s one; they define artificial intelligence as:\n",
    ">A system’s ability to correctly interpret external data, to learn from such data, and to use those learnings to achieve specific goals and tasks through flexible adaptation.\n",
    "\n",
    "[Wikipedia AI](https://en.wikipedia.org/wiki/Artificial_intelligence)"
   ]
  },
  {
   "cell_type": "markdown",
   "metadata": {},
   "source": [
    "### What is machine learning?\n",
    "Machine learning (ML) is a **field of artificial intelligence** that uses statistical techniques to give computer systems the ability to **learn (...) from data**, without being explicitly programmed.\n",
    "The name machine learning was coined in 1959 by Arthur Samuel.\n",
    "\n",
    "<A href=\"https://en.wikipedia.org/wiki/Machine_learning\">Wikipedia ML</A>\n",
    "\n",
    "<img alt=\"ML_AI_venn_diagram\" src=\"../img/1/ML_AI_venn.png\" width=\"200\">\n",
    "\n",
    "### What is statistical learning?\n",
    "- **Machine Learning** is a *subfield of computer science / artificial intelligence* focussing on prediction accuracy and big data \n",
    "- **Statistical Learning** is a *subfield of statistics* focussing on model interpretability\n",
    "- Both Machine Learning and Statistical learning focus on supervised and unsupervised learning. They have a lot of overlap."
   ]
  },
  {
   "cell_type": "markdown",
   "metadata": {},
   "source": [
    "### Neural Networks\n",
    ">Artificial neural networks (ANN) or connectionist systems are computing systems vaguely inspired by the biological neural networks that constitute animal brains.\n",
    "[Wikipedia NN](https://en.wikipedia.org/wiki/Artificial_neural_network) \n",
    "\n",
    ">A deep neural network (DNN) is an artificial neural network (ANN) with multiple layers between the input and output layers.\n",
    "[Wikipedia Deep Neural Networks](https://en.wikipedia.org/wiki/Deep_learning#Neural_networks)\n",
    "\n",
    "Artificial neural networks are used for various supervised and unsupervised machine learning problems.\n",
    "\n",
    "<img alt=\"ML_AI_venn_diagram\" src=\"../img/1/ML_AI_ANN_DNN_venn.png\" width=\"250\">"
   ]
  },
  {
   "cell_type": "markdown",
   "metadata": {},
   "source": [
    "## 1.2 Machine Learning Concepts<a name=\"1_2\"></a>\n",
    "\n",
    "### Difference between traditional programming and Machine Learning\n",
    "\n",
    "\n",
    "<img src=\"../img/1/ML_vs_trad.png\" width=\"400\" alt=\"ML vs traditional programming\">\n"
   ]
  },
  {
   "cell_type": "markdown",
   "metadata": {},
   "source": [
    "### General Concept\n",
    "The learning problem is characterized by **observations** comprised of: **input data (X)** and **output data (y)** and some unknown but **coherent relationship** between the two.\n"
   ]
  },
  {
   "cell_type": "code",
   "execution_count": null,
   "metadata": {},
   "outputs": [],
   "source": [
    "import pandas as pd\n",
    "import numpy as np\n",
    "\n",
    "df = pd.DataFrame(np.random.randn(5, 4), columns=[\"x1\", \"x2\", \"x3\", \"y\"])\n",
    "print(\"5 observations,  3 features,  one output variable\")\n",
    "print(df)"
   ]
  },
  {
   "cell_type": "markdown",
   "metadata": {},
   "source": [
    "The goal of the learning system is to **learn a generalized mapping** between input and output data such that skillful predictions can be made for new instances drawn from the domain where the output variable is unknown.\n",
    "\n",
    "![ML mapping input to output](../img/1/ml_in_out.png)\n",
    "\n",
    "\n",
    "In statistical learning the problem is framed as the learning of a **target function ($f$)** given **input data (X)** and associated **output data (y)**.\n",
    "\n",
    "$$y = f(X) + noise$$\n",
    "\n",
    "We have a sample of X and y and do our best to come up with a **function  $\\hat{f}$ that approximates $f$**, so that we can make **predictions ($\\hat{y}$)** given **new examples ($X$)** in the future.\n",
    "\n",
    "$$\\hat{y} = \\hat{f}(X)$$\n",
    "\n",
    "$\\hat{y}, \\hat{f}$ are pronounced **y-hat** and **f-hat**\n",
    "\n",
    "[machinelearningmastery](https://machinelearningmastery.com/applied-machine-learning-as-a-search-problem/)"
   ]
  },
  {
   "cell_type": "markdown",
   "metadata": {},
   "source": [
    "#### A Simple Example\n",
    "<table>\n",
    "    <tr>\n",
    "        <td  style=\"text-align:left; font-size:120%\" width=40%>\n",
    "            When looking at data one tries to <strong>identify patterns</strong> in the data as shown here. \n",
    "            We wonder what is the <strong>cause</strong> of that pattern. \n",
    "            We can build a <em>model</em> to try to explain the pattern we observe.\n",
    "            <ul>\n",
    "                <li> Y is the dependant variable, outcome, response, target</li>                \n",
    "                <li> X is the independent variable, features</li>\n",
    "            </ul>\n",
    "        </td>\n",
    "        <td>\n",
    "            <img alt=\"simple example\" src=\"../img/1/simple_example.png\" width=\"60%\" />\n",
    "        </td>\n",
    "    </tr>\n",
    "</table>\n",
    "\n",
    "\n",
    "\n",
    "We believe there is a true mechanism (target function $\\color{red}{ f(x)}$) that describes the relationship between our variables. The aim of machine learning is to find a model (model $\\color{blue}{ \\hat{f}(x)}$) that estimates this function from the data. \n",
    "\n",
    "<img alt=\"estimating_the_target_function\" src=\"../img/1/target_function.jpg\" width=\"300\">\n",
    "\n",
    "source: [ISLR](http://www-bcf.usc.edu/~gareth/ISL/)\n"
   ]
  },
  {
   "cell_type": "markdown",
   "metadata": {},
   "source": [
    "### 1.2.1 Supervised and Unsupervised Learning<a name=\"1_2_1\"></a>\n",
    "\n",
    "On the highest level machine learning can be subdived into *supervised* and *unsupervised learning*.\n",
    "\n",
    "The criteria is the presence or absence of **labels**. \n",
    "\n",
    "Next you see some code to generate a data frame with random numbers.\n",
    "\n",
    "Rows are **observations** or **samples**. Columns 0-4 are **features**. Y is the **class label**."
   ]
  },
  {
   "cell_type": "code",
   "execution_count": null,
   "metadata": {},
   "outputs": [],
   "source": [
    "from sklearn.datasets import make_classification\n",
    "\n",
    "# Create a simulated feature matrix and output vector\n",
    "X, y = make_classification(n_samples = 100, n_features = 4, n_informative = 3, \n",
    "                           n_redundant = 0, n_classes = 3, weights = [.2, .3, .5])"
   ]
  },
  {
   "cell_type": "code",
   "execution_count": null,
   "metadata": {},
   "outputs": [],
   "source": [
    "# View the first 10 observations\n",
    "print(type(X), X.shape)\n",
    "print(X[0:10,:], \"\\n\")\n",
    "\n",
    "# View the first 10 labels\n",
    "print(type(y), y.shape)\n",
    "print(y[0:10])"
   ]
  },
  {
   "cell_type": "code",
   "execution_count": null,
   "metadata": {},
   "outputs": [],
   "source": [
    "# plotting the first two of the features\n",
    "import matplotlib.pyplot as plt\n",
    "%matplotlib inline\n",
    "plt.scatter(X[:,0], X[:,1], c=y)"
   ]
  },
  {
   "cell_type": "markdown",
   "metadata": {},
   "source": [
    "#### Supervised Learning\n",
    "you start with\n",
    "- y = outcome measurement (label, dependent variable, response, target)\n",
    "\t- regression problem y is continuous (5, 3.456, 1023) \n",
    "\t- classification problem y is discrete (yes/no, A,B,C)\n",
    "- X = vector of predictor measurement (independent variable, features)\n",
    "- training data: observations of measurements: $(x_1,y_1), (x_2,y_2), (x_3,y_3) ... (x_n,y_n)$\n",
    "\n",
    "\n",
    "e.g. Classification, Regression\n",
    "\n",
    "You will learn more about [supervised learning](2_supervised_learning.ipynb) in the next class."
   ]
  },
  {
   "cell_type": "markdown",
   "metadata": {},
   "source": [
    "#### Unsupervised Learning\n",
    "you start with\n",
    "- no label (outcome variable)\n",
    "- X = vector of measurements(independent variable, features)\n",
    "- objective is more fuzzy: groups samples, find features\n",
    "- more difficult to evaluate, but easier to get training data\n",
    "- observations of measurements: $x_1, x_2, x_3 ... x_n$\n",
    "\n",
    "\n",
    "Objectives are more fuzzy for unsupervised learning\n",
    "\n",
    "Using the training data we want:\n",
    "- Find samples that behave similarly\n",
    "- Find features that behave similarly\n",
    "- Difficult to assess quality\n",
    "\n",
    "e.g. Clustering\n",
    "<img src=\"../img/1/cats_and_dogs.png\" alt=\"cats and dogs\" width=\"500\">\n",
    "\n",
    "You will learn more about [unsupervised learning](3_unsupervised_learning.ipynb) later today."
   ]
  },
  {
   "cell_type": "markdown",
   "metadata": {},
   "source": [
    "Unsupervised vs Supervised Learning\n",
    "\n",
    "<img src=\"../img/1/cluster_vs_classify.png\" alt=\"clustering vs classification\" width=\"500\">\n",
    "\n",
    "source: https://deepcast.ai/media/article3/"
   ]
  },
  {
   "cell_type": "markdown",
   "metadata": {},
   "source": [
    "#### Concept Map\n",
    "<table>\n",
    "    <tr>\n",
    "        <td>\n",
    "            <img src=\"../img/1/machine_learning_cmap.jpg\" alt=\"ML concept map\" width=\"500\">\n",
    "        </td>\n",
    "        <td>\n",
    "            <img src=\"../img/1/ML_concept_map.png\" alt=\"ML concept map\" width=\"250\">\n",
    "        </td>\n",
    "    </tr>\n",
    "</table>\n"
   ]
  },
  {
   "cell_type": "markdown",
   "metadata": {},
   "source": [
    "#### Regression vs Classification\n",
    "\n",
    "<div style=\"font-size:110%;padding:25px; margin:25px; background:#ffff81; border:#000000 2px dashed;\">\n",
    "Supervised learning problems can be further divided into <b>regression and classification</b> problems.<br>\n",
    "This depends on the <b>data type of the target variable y</b>.\n",
    "</div>\n",
    "\n",
    "1. Regression covers situations where y is **numerical**. e.g.\n",
    "    - Predicting the **value** of the DAX next week.\n",
    "    - Predicting the **price** of a given house based on various inputs.\n",
    "\n",
    "\n",
    "2. Classification covers situations where y is **categorical-nominal** e.g.\n",
    "    - Will the DAX be **up or down** next week?\n",
    "    - Is this email a **SPAM or not**?        \n",
    "\n",
    "\n",
    "- Either regression or classification could be used if y is **categorical-ordinal** e.g.\n",
    "    - Predict the grade in an exam (A, B, C, D, F) based on hours studied for the exam.\n",
    "    - Predict the bank credit rating based on bank features.\n",
    "\n",
    "  Regression is usually more appropriate here.\n",
    "\n",
    "<img src=\"../img/1/categorical_numerical_vars.jpg\" width=\"350\">\n"
   ]
  },
  {
   "cell_type": "markdown",
   "metadata": {},
   "source": [
    "#### Why do we estimate $f(x)$? \n",
    "\n",
    "There are 2 reasons:\n",
    "1. Prediction\n",
    "2. Inference\n",
    "\n",
    "##### 1. Prediction\n",
    "If we can produce a good estimate for f, we can make accurate predictions for the response Y, based on a new value of X.\n",
    "\n",
    "E. g. predicting how much money someone will earn based on education level and age.\n",
    "\n",
    "##### 2. Inference\n",
    "Alternatively, we may also be interested in **understanding** the type of relationship between Y and the X's. For example, \n",
    "- Which particular feature actually affect the response? \n",
    "- Is the relationship positive or negative? \n",
    "- Is the relationship a simple linear one or is it more complicated etc.?\n",
    "\n",
    "\n",
    "##### There is a Trade-off: Prediction vs Inference\n",
    "Simple models are often advantageous for both prediction as well as Inference.\n",
    "- Simple models are easier to interpret. Easier to understand.\n",
    "- Also, a simple model is often easier to train. It is harder to fit a flexible model. Only really complex tasks require more flexible models such as neural networks.\n",
    "\n",
    "Take home message: Always start with a simple model."
   ]
  },
  {
   "cell_type": "markdown",
   "metadata": {},
   "source": [
    "## 1.3 Technology<a name=\"1_3\"></a>\n",
    "Have a look at the technology used in this course [technologies.md](../md/technologies.md).\n",
    "\n",
    "\n",
    "**Scikit-learn** is a collection of ML methods that can be used throughout any data science project.\n",
    "\n",
    "Here is an example on a simple classification model. The procedure is always the same:\n",
    "\n",
    "1. split the data into train and test\n",
    "2. create a model\n",
    "3. fit (learning from train data)\n",
    "4. predict (using the model to make predicionts on test data)\n",
    "5. evaluate predictions"
   ]
  },
  {
   "cell_type": "markdown",
   "metadata": {},
   "source": [
    "\n",
    "#### 1. split the data into train and test\n",
    "##### Assessing Model Quality\n",
    "- How do we know if the model we build is close enough to the target function?\n",
    "- How good are our predictions?\n",
    "\n",
    "We need to test our model. One way to do this is to **split our data** set into:\n",
    "    - train \n",
    "    - test\n"
   ]
  },
  {
   "cell_type": "code",
   "execution_count": null,
   "metadata": {},
   "outputs": [],
   "source": [
    "from sklearn.model_selection import train_test_split\n",
    "THE_ANSWER=42\n",
    "X_train, X_test, y_train, y_test = train_test_split(X, y, test_size=0.3, random_state=THE_ANSWER)\n",
    "print(\"Train data X and y: \", X_train.shape, y_train.shape)\n",
    "print(\"Test data X and y: \", X_test.shape, y_test.shape)"
   ]
  },
  {
   "cell_type": "markdown",
   "metadata": {},
   "source": [
    "#### 2. create a model"
   ]
  },
  {
   "cell_type": "code",
   "execution_count": null,
   "metadata": {},
   "outputs": [],
   "source": [
    "from sklearn import svm\n",
    "# our model is a classifier clf\n",
    "clf = svm.SVC(gamma=\"auto\")\n",
    "print(clf)"
   ]
  },
  {
   "cell_type": "markdown",
   "metadata": {},
   "source": [
    "#### 3. fit the model"
   ]
  },
  {
   "cell_type": "code",
   "execution_count": null,
   "metadata": {},
   "outputs": [],
   "source": [
    "print(X_train.shape, y_train.shape)\n",
    "print(X_train.dtype, y_train.dtype)\n",
    "print(type(X_train), type(y_train))\n",
    "clf.fit(X_train, y_train)"
   ]
  },
  {
   "cell_type": "markdown",
   "metadata": {},
   "source": [
    "#### 4. Predict\n",
    "Now you can use the model to make predictions and compare with the truth."
   ]
  },
  {
   "cell_type": "code",
   "execution_count": null,
   "metadata": {},
   "outputs": [],
   "source": [
    "y_pred = clf.predict(X_test)\n",
    "print(\"test:\", y_test)\n",
    "print(\"pred:\", y_pred)\n"
   ]
  },
  {
   "cell_type": "markdown",
   "metadata": {},
   "source": [
    "##### 5. Evaluate"
   ]
  },
  {
   "cell_type": "code",
   "execution_count": null,
   "metadata": {},
   "outputs": [],
   "source": [
    "print(\"sum of correct predictions\", sum(y_test == y_pred))\n",
    "print(\"length of predictions\", len(y_pred))\n",
    "\n",
    "print(\"accuracy: \", sum(y_test == y_pred) / len(y_pred))"
   ]
  },
  {
   "cell_type": "markdown",
   "metadata": {},
   "source": [
    "## 1.4 Exercise<a name=\"1_4\"></a>\n",
    "- Change the code in this function: **make_classification**.  [API doc on make_classification](https://scikit-learn.org/stable/modules/generated/sklearn.datasets.make_classification.html)\n",
    "    \tWhat happens to the accuracy, if you change the values for\n",
    "        n_samples, n_features, n_informative, n_redundant, n_classes, weights?\n",
    "- Change the random_state in the function **train_test_split**. [API doc on train_test_split](https://scikit-learn.org/stable/modules/generated/sklearn.model_selection.train_test_split.html)\n",
    "        What does this do?"
   ]
  },
  {
   "cell_type": "markdown",
   "metadata": {},
   "source": [
    "## 1.5 Learning Material<a name=\"1_5\"></a>"
   ]
  },
  {
   "cell_type": "markdown",
   "metadata": {},
   "source": [
    "- [machinelearningmastery](https://machinelearningmastery.com/applied-machine-learning-as-a-search-problem/)\n",
    "- [ISLR](http://www-bcf.usc.edu/~gareth/ISL/)\n",
    "- [train_test_split](https://scikit-learn.org/stable/modules/generated/sklearn.model_selection.train_test_split.html)\n",
    "- [make_classification](https://scikit-learn.org/stable/modules/generated/sklearn.datasets.make_classification.html)"
   ]
  }
 ],
 "metadata": {
  "kernelspec": {
   "display_name": "Python 3",
   "language": "python",
   "name": "python3"
  },
  "language_info": {
   "codemirror_mode": {
    "name": "ipython",
    "version": 3
   },
   "file_extension": ".py",
   "mimetype": "text/x-python",
   "name": "python",
   "nbconvert_exporter": "python",
   "pygments_lexer": "ipython3",
   "version": "3.6.5"
  }
 },
 "nbformat": 4,
 "nbformat_minor": 1
}
